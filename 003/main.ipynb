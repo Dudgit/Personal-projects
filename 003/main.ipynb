{
 "cells": [
  {
   "cell_type": "code",
   "execution_count": 2,
   "metadata": {},
   "outputs": [],
   "source": [
    "import torch\n",
    "import matplotlib.pyplot as plt\n",
    "from utils import imageSize\n",
    "from torchvision import datasets, transforms\n",
    "from torch.utils.data import DataLoader\n",
    "from torch.utils.data import random_split\n",
    "from torch import nn\n",
    "from torch import optim\n",
    "import torch.nn.functional as F\n",
    "from torch.utils.tensorboard import SummaryWriter\n"
   ]
  },
  {
   "cell_type": "code",
   "execution_count": 3,
   "metadata": {},
   "outputs": [],
   "source": [
    "\n",
    "# Assuming you want to create a DataLoader for image datasets\n",
    "train_transform = transforms.Compose([\n",
    "    transforms.Resize((imageSize, imageSize)),\n",
    "    transforms.ToTensor()\n",
    "])\n",
    "transform = transforms.Compose([\n",
    "    transforms.Resize((imageSize, imageSize)),\n",
    "    transforms.ToTensor()\n",
    "])\n"
   ]
  },
  {
   "cell_type": "code",
   "execution_count": null,
   "metadata": {},
   "outputs": [],
   "source": [
    "trainDataset = datasets.ImageFolder('data/train', transform=train_transform)\n",
    "valDataset = datasets.ImageFolder('data/validation', transform=transform)\n",
    "testDataset = datasets.ImageFolder('data/test', transform=transform)\n",
    "batch_size = 30\n",
    "num_workers = torch.get_num_threads()\n",
    "train_loader = DataLoader(trainDataset, batch_size=batch_size, shuffle=True)\n",
    "val_loader = DataLoader(valDataset, batch_size=batch_size, shuffle=True)\n",
    "test_loader = DataLoader(testDataset, batch_size=batch_size, shuffle=True)"
   ]
  },
  {
   "cell_type": "code",
   "execution_count": null,
   "metadata": {},
   "outputs": [],
   "source": [
    "clases = trainDataset.classes\n",
    "classes =[longClass.split('-')[0] for longClass in trainDataset.classes]"
   ]
  },
  {
   "cell_type": "code",
   "execution_count": null,
   "metadata": {},
   "outputs": [
    {
     "name": "stdout",
     "output_type": "stream",
     "text": [
      "torch.Size([30, 3, 300, 300]) torch.Size([30])\n"
     ]
    }
   ],
   "source": [
    "images, labels = next(iter(val_loader))\n",
    "print(images.shape, labels.shape)"
   ]
  },
  {
   "cell_type": "markdown",
   "metadata": {},
   "source": [
    "# Create model"
   ]
  },
  {
   "cell_type": "code",
   "execution_count": null,
   "metadata": {},
   "outputs": [],
   "source": [
    "%load_ext autoreload\n",
    "%autoreload 2\n",
    "from model_zoo import Animal2"
   ]
  },
  {
   "cell_type": "code",
   "execution_count": null,
   "metadata": {},
   "outputs": [],
   "source": [
    "device = torch.device('cuda' if torch.cuda.is_available() else 'cpu')"
   ]
  },
  {
   "cell_type": "code",
   "execution_count": null,
   "metadata": {},
   "outputs": [],
   "source": [
    "num_classes = len(classes)\n",
    "model = Animal2(3, num_classes)\n",
    "num_epochs = 100\n",
    "valSteps = len(val_loader)\n",
    "writer = SummaryWriter(comment='Change optim')\n",
    "lossF = nn.CrossEntropyLoss()\n",
    "learningRate = 1e-3\n",
    "momentum = 0.9\n",
    "optimizer = optim.ADAM(model.parameters(),learning_rate = learningRate)\n",
    "accMetric = Accuracy(task='multiclass',num_classes=num_classes)\n",
    "writer.add_hparams({'lr':learningRate,'optim':'Adam','Batch Size':batch_size,'momentum':momentum,'image size':imageSize},{'Number of epochs':num_epochs})"
   ]
  },
  {
   "cell_type": "code",
   "execution_count": 9,
   "metadata": {},
   "outputs": [],
   "source": [
    "trainsteps  = len(train_loader)"
   ]
  },
  {
   "cell_type": "code",
   "execution_count": 10,
   "metadata": {},
   "outputs": [
    {
     "name": "stdout",
     "output_type": "stream",
     "text": [
      "Model size: 89.81148 MB\n",
      "Batch size: 32.4 MB\n",
      "Labels size: 0.00024 MB\n"
     ]
    }
   ],
   "source": [
    "modelSizeInBits = sum(p.numel() for p in model.parameters() if p.requires_grad) * 32\n",
    "modelSizeInMB = modelSizeInBits/8/1e6\n",
    "print(f'Model size: {modelSizeInMB} MB')\n",
    "batchSizeInMB = images.element_size() * images.nelement() / 1e6\n",
    "print(f'Batch size: {batchSizeInMB} MB')\n",
    "labelsSizeInMB = labels.element_size() * labels.nelement() / 1e6\n",
    "print(f'Labels size: {labelsSizeInMB} MB')"
   ]
  },
  {
   "cell_type": "code",
   "execution_count": 11,
   "metadata": {},
   "outputs": [],
   "source": [
    "model = model.to(device)\n",
    "writer.add_graph(model, images.to(device))"
   ]
  },
  {
   "cell_type": "code",
   "execution_count": 12,
   "metadata": {},
   "outputs": [
    {
     "name": "stdout",
     "output_type": "stream",
     "text": [
      "Epoch: 0\n",
      "Training Loss: 1.7314 Training Accuracy: 0.3104\n",
      "Validation Loss: 1.660770058631897 Validation Accuracy: 0.375\n",
      "Epoch: 1\n",
      "Training Loss: 1.6101 Training Accuracy: 0.4326\n",
      "Validation Loss: 1.5917750597000122 Validation Accuracy: 0.4416666626930237\n",
      "Epoch: 2\n",
      "Training Loss: 1.5605 Training Accuracy: 0.4933\n",
      "Validation Loss: 1.5503742694854736 Validation Accuracy: 0.5\n",
      "Epoch: 3\n",
      "Training Loss: 1.5293 Training Accuracy: 0.5156\n",
      "Validation Loss: 1.5709577798843384 Validation Accuracy: 0.4833333194255829\n",
      "Epoch: 4\n",
      "Training Loss: 1.4940 Training Accuracy: 0.5570\n",
      "Validation Loss: 1.5475128889083862 Validation Accuracy: 0.5166666507720947\n",
      "Epoch: 5\n",
      "Training Loss: 1.4788 Training Accuracy: 0.5756\n",
      "Validation Loss: 1.5314165353775024 Validation Accuracy: 0.550000011920929\n",
      "Epoch: 6\n",
      "Training Loss: 1.4628 Training Accuracy: 0.5904\n",
      "Validation Loss: 1.5037435293197632 Validation Accuracy: 0.550000011920929\n",
      "Epoch: 7\n",
      "Training Loss: 1.4483 Training Accuracy: 0.6022\n",
      "Validation Loss: 1.5220673084259033 Validation Accuracy: 0.4833333492279053\n",
      "Epoch: 8\n",
      "Training Loss: 1.4362 Training Accuracy: 0.6111\n",
      "Validation Loss: 1.509129285812378 Validation Accuracy: 0.5166666507720947\n",
      "Epoch: 9\n",
      "Training Loss: 1.4187 Training Accuracy: 0.6363\n",
      "Validation Loss: 1.5198869705200195 Validation Accuracy: 0.5083333253860474\n",
      "Epoch: 10\n",
      "Training Loss: 1.4333 Training Accuracy: 0.6133\n",
      "Validation Loss: 1.4804737567901611 Validation Accuracy: 0.6000000238418579\n",
      "Epoch: 11\n",
      "Training Loss: 1.4192 Training Accuracy: 0.6304\n",
      "Validation Loss: 1.4777159690856934 Validation Accuracy: 0.550000011920929\n",
      "Epoch: 12\n",
      "Training Loss: 1.4140 Training Accuracy: 0.6289\n",
      "Validation Loss: 1.4533036947250366 Validation Accuracy: 0.6000000238418579\n",
      "Epoch: 13\n",
      "Training Loss: 1.4010 Training Accuracy: 0.6533\n",
      "Validation Loss: 1.4847239255905151 Validation Accuracy: 0.5583333373069763\n",
      "Epoch: 14\n",
      "Training Loss: 1.3996 Training Accuracy: 0.6511\n",
      "Validation Loss: 1.4830008745193481 Validation Accuracy: 0.5666666626930237\n",
      "Epoch: 15\n",
      "Training Loss: 1.3901 Training Accuracy: 0.6615\n",
      "Validation Loss: 1.4917917251586914 Validation Accuracy: 0.5333333611488342\n",
      "Epoch: 16\n",
      "Training Loss: 1.3951 Training Accuracy: 0.6481\n",
      "Validation Loss: 1.465421438217163 Validation Accuracy: 0.5916666984558105\n",
      "Epoch: 17\n",
      "Training Loss: 1.3831 Training Accuracy: 0.6667\n",
      "Validation Loss: 1.438041090965271 Validation Accuracy: 0.6000000238418579\n",
      "Epoch: 18\n",
      "Training Loss: 1.3646 Training Accuracy: 0.6785\n",
      "Validation Loss: 1.4863264560699463 Validation Accuracy: 0.5416666269302368\n",
      "Epoch: 19\n",
      "Training Loss: 1.3710 Training Accuracy: 0.6741\n",
      "Validation Loss: 1.487311601638794 Validation Accuracy: 0.5416666865348816\n",
      "Epoch: 20\n",
      "Training Loss: 1.3601 Training Accuracy: 0.6911\n",
      "Validation Loss: 1.4497958421707153 Validation Accuracy: 0.6083333492279053\n",
      "Epoch: 21\n",
      "Training Loss: 1.3579 Training Accuracy: 0.6963\n",
      "Validation Loss: 1.430859923362732 Validation Accuracy: 0.625\n",
      "Epoch: 22\n",
      "Training Loss: 1.3445 Training Accuracy: 0.7081\n",
      "Validation Loss: 1.43952476978302 Validation Accuracy: 0.6000000238418579\n",
      "Epoch: 23\n",
      "Training Loss: 1.3445 Training Accuracy: 0.7081\n",
      "Validation Loss: 1.4579145908355713 Validation Accuracy: 0.5750000476837158\n",
      "Epoch: 24\n",
      "Training Loss: 1.3460 Training Accuracy: 0.7067\n",
      "Validation Loss: 1.4167046546936035 Validation Accuracy: 0.6416666507720947\n",
      "Epoch: 25\n",
      "Training Loss: 1.3365 Training Accuracy: 0.7037\n",
      "Validation Loss: 1.4291942119598389 Validation Accuracy: 0.6333333253860474\n",
      "Epoch: 26\n",
      "Training Loss: 1.3314 Training Accuracy: 0.7281\n",
      "Validation Loss: 1.4614918231964111 Validation Accuracy: 0.5916666984558105\n",
      "Epoch: 27\n",
      "Training Loss: 1.3200 Training Accuracy: 0.7348\n",
      "Validation Loss: 1.4267561435699463 Validation Accuracy: 0.6166666746139526\n",
      "Epoch: 28\n",
      "Training Loss: 1.3387 Training Accuracy: 0.7104\n",
      "Validation Loss: 1.413766860961914 Validation Accuracy: 0.6500000357627869\n",
      "Epoch: 29\n",
      "Training Loss: 1.3243 Training Accuracy: 0.7363\n",
      "Validation Loss: 1.4152454137802124 Validation Accuracy: 0.6333333253860474\n",
      "Epoch: 30\n",
      "Training Loss: 1.3080 Training Accuracy: 0.7444\n",
      "Validation Loss: 1.4390588998794556 Validation Accuracy: 0.6000000238418579\n",
      "Epoch: 31\n",
      "Training Loss: 1.3246 Training Accuracy: 0.7296\n",
      "Validation Loss: 1.4143098592758179 Validation Accuracy: 0.6499999761581421\n",
      "Epoch: 32\n",
      "Training Loss: 1.3076 Training Accuracy: 0.7481\n",
      "Validation Loss: 1.421589732170105 Validation Accuracy: 0.6166666746139526\n",
      "Epoch: 33\n",
      "Training Loss: 1.3134 Training Accuracy: 0.7430\n",
      "Validation Loss: 1.4352248907089233 Validation Accuracy: 0.625\n",
      "Epoch: 34\n",
      "Training Loss: 1.3061 Training Accuracy: 0.7533\n",
      "Validation Loss: 1.4621628522872925 Validation Accuracy: 0.5750000476837158\n",
      "Epoch: 35\n",
      "Training Loss: 1.2866 Training Accuracy: 0.7696\n",
      "Validation Loss: 1.4015660285949707 Validation Accuracy: 0.6583333015441895\n",
      "Epoch: 36\n",
      "Training Loss: 1.2945 Training Accuracy: 0.7585\n",
      "Validation Loss: 1.401381015777588 Validation Accuracy: 0.6333333253860474\n",
      "Epoch: 37\n",
      "Training Loss: 1.2845 Training Accuracy: 0.7696\n",
      "Validation Loss: 1.4248398542404175 Validation Accuracy: 0.6000000238418579\n",
      "Epoch: 38\n",
      "Training Loss: 1.2916 Training Accuracy: 0.7585\n",
      "Validation Loss: 1.419891119003296 Validation Accuracy: 0.6083333492279053\n",
      "Epoch: 39\n",
      "Training Loss: 1.2861 Training Accuracy: 0.7696\n",
      "Validation Loss: 1.3744322061538696 Validation Accuracy: 0.6750000715255737\n",
      "Epoch: 40\n",
      "Training Loss: 1.2826 Training Accuracy: 0.7711\n",
      "Validation Loss: 1.4387067556381226 Validation Accuracy: 0.6000000238418579\n",
      "Epoch: 41\n",
      "Training Loss: 1.2790 Training Accuracy: 0.7689\n",
      "Validation Loss: 1.4009568691253662 Validation Accuracy: 0.6416666507720947\n",
      "Epoch: 42\n",
      "Training Loss: 1.2701 Training Accuracy: 0.7815\n",
      "Validation Loss: 1.3801796436309814 Validation Accuracy: 0.6833333969116211\n",
      "Epoch: 43\n",
      "Training Loss: 1.2747 Training Accuracy: 0.7800\n",
      "Validation Loss: 1.404266119003296 Validation Accuracy: 0.6499999761581421\n",
      "Epoch: 44\n",
      "Training Loss: 1.2686 Training Accuracy: 0.7859\n",
      "Validation Loss: 1.386981725692749 Validation Accuracy: 0.6416666507720947\n"
     ]
    }
   ],
   "source": [
    "accMetric.to(device)\n",
    "model.fit(train_loader,val_loader,criterion=lossF,optimizer=optimizer,\\\n",
    "          device=device,writer=writer,accMetric=accMetric,epochs=num_epochs,\\\n",
    "            num_classes=num_classes)"
   ]
  },
  {
   "cell_type": "code",
   "execution_count": 13,
   "metadata": {},
   "outputs": [
    {
     "name": "stdout",
     "output_type": "stream",
     "text": [
      "Epoch: 45\n",
      "Training Loss: 1.2623 Training Accuracy: 0.7963\n",
      "Validation Loss: 1.4011534452438354 Validation Accuracy: 0.6583333015441895\n",
      "Epoch: 46\n",
      "Training Loss: 1.2578 Training Accuracy: 0.7933\n",
      "Validation Loss: 1.3896548748016357 Validation Accuracy: 0.6583333015441895\n",
      "Epoch: 47\n",
      "Training Loss: 1.2470 Training Accuracy: 0.8074\n",
      "Validation Loss: 1.3960061073303223 Validation Accuracy: 0.6499999761581421\n",
      "Epoch: 48\n",
      "Training Loss: 1.2506 Training Accuracy: 0.8067\n",
      "Validation Loss: 1.3995065689086914 Validation Accuracy: 0.6499999761581421\n",
      "Epoch: 49\n",
      "Training Loss: 1.2459 Training Accuracy: 0.8074\n",
      "Validation Loss: 1.3972867727279663 Validation Accuracy: 0.6416666507720947\n",
      "Epoch: 50\n",
      "Training Loss: 1.2479 Training Accuracy: 0.8089\n",
      "Validation Loss: 1.3743996620178223 Validation Accuracy: 0.675000011920929\n",
      "Epoch: 51\n",
      "Training Loss: 1.2449 Training Accuracy: 0.8089\n",
      "Validation Loss: 1.3767026662826538 Validation Accuracy: 0.6583333611488342\n",
      "Epoch: 52\n",
      "Training Loss: 1.2382 Training Accuracy: 0.8200\n",
      "Validation Loss: 1.39159095287323 Validation Accuracy: 0.6499999761581421\n",
      "Epoch: 53\n",
      "Training Loss: 1.2395 Training Accuracy: 0.8126\n",
      "Validation Loss: 1.375117540359497 Validation Accuracy: 0.6916666030883789\n",
      "Epoch: 54\n",
      "Training Loss: 1.2351 Training Accuracy: 0.8252\n",
      "Validation Loss: 1.3741167783737183 Validation Accuracy: 0.6916666626930237\n",
      "Epoch: 55\n",
      "Training Loss: 1.2485 Training Accuracy: 0.8119\n",
      "Validation Loss: 1.365833044052124 Validation Accuracy: 0.699999988079071\n",
      "Epoch: 56\n",
      "Training Loss: 1.2428 Training Accuracy: 0.8111\n",
      "Validation Loss: 1.3779897689819336 Validation Accuracy: 0.6666666865348816\n",
      "Epoch: 57\n",
      "Training Loss: 1.2437 Training Accuracy: 0.8074\n",
      "Validation Loss: 1.3708463907241821 Validation Accuracy: 0.6916666626930237\n",
      "Epoch: 58\n",
      "Training Loss: 1.2518 Training Accuracy: 0.8007\n",
      "Validation Loss: 1.3805021047592163 Validation Accuracy: 0.6583333015441895\n",
      "Epoch: 59\n",
      "Training Loss: 1.2394 Training Accuracy: 0.8200\n",
      "Validation Loss: 1.3762178421020508 Validation Accuracy: 0.675000011920929\n",
      "Epoch: 60\n",
      "Training Loss: 1.2454 Training Accuracy: 0.8111\n",
      "Validation Loss: 1.3849916458129883 Validation Accuracy: 0.6583333015441895\n",
      "Epoch: 61\n",
      "Training Loss: 1.2334 Training Accuracy: 0.8259\n",
      "Validation Loss: 1.376659870147705 Validation Accuracy: 0.6916666626930237\n",
      "Epoch: 62\n",
      "Training Loss: 1.2540 Training Accuracy: 0.8052\n",
      "Validation Loss: 1.3728680610656738 Validation Accuracy: 0.6916666626930237\n",
      "Epoch: 63\n",
      "Training Loss: 1.2324 Training Accuracy: 0.8252\n",
      "Validation Loss: 1.364881992340088 Validation Accuracy: 0.6916666626930237\n",
      "Epoch: 64\n",
      "Training Loss: 1.2363 Training Accuracy: 0.8222\n",
      "Validation Loss: 1.382616400718689 Validation Accuracy: 0.6583333015441895\n"
     ]
    }
   ],
   "source": [
    "fineTuner = optim.SGD(model.parameters(), lr=1e-4, momentum=0.9)\n",
    "model.fit(train_loader,val_loader,criterion=lossF,optimizer=fineTuner,\\\n",
    "          device=device,writer=writer,accMetric=accMetric,epochs=20,\\\n",
    "            num_classes=num_classes,init_epoch=num_epochs)"
   ]
  },
  {
   "cell_type": "code",
   "execution_count": null,
   "metadata": {},
   "outputs": [],
   "source": []
  }
 ],
 "metadata": {
  "kernelspec": {
   "display_name": "Python 3",
   "language": "python",
   "name": "python3"
  },
  "language_info": {
   "codemirror_mode": {
    "name": "ipython",
    "version": 3
   },
   "file_extension": ".py",
   "mimetype": "text/x-python",
   "name": "python",
   "nbconvert_exporter": "python",
   "pygments_lexer": "ipython3",
   "version": "3.12.9"
  }
 },
 "nbformat": 4,
 "nbformat_minor": 2
}
